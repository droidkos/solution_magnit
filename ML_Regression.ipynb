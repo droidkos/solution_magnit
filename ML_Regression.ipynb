{
 "cells": [
  {
   "cell_type": "markdown",
   "id": "e8cdbaad-679a-42c9-9bf4-b68c86e3325c",
   "metadata": {},
   "source": [
    "Версии:\n",
    "\n",
    "- pandas==1.4.2\n",
    "- numpy==1.20.3\n",
    "- matplotlib==3.4.3\n",
    "- seaborn==0.11.2\n",
    "- nltk==3.6.5\n",
    "- scipy==1.7.1\n",
    "- lightgbm==3.3.2\n",
    "- tqdm==4.62.3\n",
    "- scikit-learn==1.0.2\n",
    "- catboost==0.26.1"
   ]
  },
  {
   "cell_type": "code",
   "execution_count": 1,
   "id": "13b1eb2a",
   "metadata": {},
   "outputs": [],
   "source": [
    "import re\n",
    "import calendar\n",
    "import pandas as pd\n",
    "import numpy as np\n",
    "import matplotlib.pyplot as plt\n",
    "import seaborn as sns\n",
    "import nltk.corpus\n",
    "import scipy.sparse\n",
    "import lightgbm as lgb\n",
    "from tqdm.notebook import tqdm\n",
    "from sklearn.model_selection import train_test_split, GridSearchCV, TimeSeriesSplit\n",
    "from sklearn.preprocessing import OneHotEncoder, MinMaxScaler, StandardScaler\n",
    "from sklearn.feature_extraction.text import TfidfVectorizer\n",
    "from sklearn.linear_model import Ridge\n",
    "from sklearn.ensemble import RandomForestRegressor\n",
    "from sklearn.dummy import DummyRegressor\n",
    "from sklearn.metrics import make_scorer\n",
    "from catboost import CatBoostRegressor\n",
    "from catboost.utils import eval_metric\n",
    "\n",
    "import warnings\n",
    "warnings.simplefilter('ignore')"
   ]
  },
  {
   "cell_type": "markdown",
   "id": "d890c1fc-f4b3-44a8-ae82-f39e3da31974",
   "metadata": {},
   "source": [
    "# EDA"
   ]
  },
  {
   "cell_type": "markdown",
   "id": "864a7f30",
   "metadata": {},
   "source": [
    "## Загрузка данных"
   ]
  },
  {
   "cell_type": "code",
   "execution_count": 2,
   "id": "deaa6eef",
   "metadata": {},
   "outputs": [],
   "source": [
    "df = pd.read_csv(r'.\\junior\\regression\\data_regression_for_task.csv')"
   ]
  },
  {
   "cell_type": "code",
   "execution_count": 3,
   "id": "406ec709",
   "metadata": {},
   "outputs": [
    {
     "name": "stdout",
     "output_type": "stream",
     "text": [
      "<class 'pandas.core.frame.DataFrame'>\n",
      "RangeIndex: 128355 entries, 0 to 128354\n",
      "Data columns (total 8 columns):\n",
      " #   Column         Non-Null Count   Dtype  \n",
      "---  ------         --------------   -----  \n",
      " 0   YEAR           128355 non-null  int64  \n",
      " 1   MONTH          128355 non-null  int64  \n",
      " 2   CONTRAGENT     128331 non-null  object \n",
      " 3   ARTICLE_CODE   128355 non-null  object \n",
      " 4   ARTICLE_NAME   128355 non-null  object \n",
      " 5   ARTICLE_GROUP  128354 non-null  object \n",
      " 6   SALES          128355 non-null  float64\n",
      " 7   STORE_SALES    128355 non-null  float64\n",
      "dtypes: float64(2), int64(2), object(4)\n",
      "memory usage: 7.8+ MB\n"
     ]
    }
   ],
   "source": [
    "df.info()"
   ]
  },
  {
   "cell_type": "markdown",
   "id": "e5271513",
   "metadata": {},
   "source": [
    "Проверка на дубликаты"
   ]
  },
  {
   "cell_type": "code",
   "execution_count": 4,
   "id": "2cf5b4e9",
   "metadata": {},
   "outputs": [
    {
     "data": {
      "text/plain": [
       "0"
      ]
     },
     "execution_count": 4,
     "metadata": {},
     "output_type": "execute_result"
    }
   ],
   "source": [
    "df.duplicated().sum()"
   ]
  },
  {
   "cell_type": "markdown",
   "id": "405b3ecd-b338-49bc-80b0-789b2735aad3",
   "metadata": {},
   "source": [
    "Просмотр данных"
   ]
  },
  {
   "cell_type": "markdown",
   "id": "4b833258-2d57-4ea8-9d76-73c292316c53",
   "metadata": {},
   "source": [
    "Проверка на пропуски"
   ]
  },
  {
   "cell_type": "code",
   "execution_count": 5,
   "id": "e369ed12",
   "metadata": {},
   "outputs": [
    {
     "data": {
      "text/plain": [
       "YEAR              0\n",
       "MONTH             0\n",
       "CONTRAGENT       24\n",
       "ARTICLE_CODE      0\n",
       "ARTICLE_NAME      0\n",
       "ARTICLE_GROUP     1\n",
       "SALES             0\n",
       "STORE_SALES       0\n",
       "dtype: int64"
      ]
     },
     "execution_count": 5,
     "metadata": {},
     "output_type": "execute_result"
    }
   ],
   "source": [
    "df.isnull().sum()"
   ]
  },
  {
   "cell_type": "markdown",
   "id": "7f95896a",
   "metadata": {},
   "source": [
    "В данных присутствуют пропуски, но в незначительном количестве, поэтому их можно будет удалить."
   ]
  },
  {
   "cell_type": "markdown",
   "id": "f9660d8f",
   "metadata": {},
   "source": [
    "ARTICLE_CODE и ARTICLE_NAME обозначают одно и то же, но с именами нам легче работать. Также важно отметить, что признаки будут иметь высокую ковариацию, что плохо скажется на обучении модели"
   ]
  },
  {
   "cell_type": "code",
   "execution_count": 6,
   "id": "2485c0f3",
   "metadata": {},
   "outputs": [
    {
     "data": {
      "text/plain": [
       "312"
      ]
     },
     "execution_count": 6,
     "metadata": {},
     "output_type": "execute_result"
    }
   ],
   "source": [
    "tmp_gb = df.groupby(['ARTICLE_NAME', 'MONTH'])['ARTICLE_CODE'].count()\n",
    "len(tmp_gb[tmp_gb != 1])"
   ]
  },
  {
   "cell_type": "markdown",
   "id": "0372c4bb",
   "metadata": {},
   "source": [
    "В незначительном кол-ве случаев имеет место несовпадение кода и товара (см. выше), лучше группировать по товару"
   ]
  },
  {
   "cell_type": "code",
   "execution_count": 7,
   "id": "0a50dfdc",
   "metadata": {},
   "outputs": [],
   "source": [
    "df = df.dropna(subset=['CONTRAGENT', 'ARTICLE_GROUP'])\n",
    "df = df.drop('ARTICLE_CODE', axis=1)"
   ]
  },
  {
   "cell_type": "markdown",
   "id": "8a5b8c55",
   "metadata": {},
   "source": [
    "Столбцы с текстом можно привести к категориальному типу. Это может быть полезно при подготовке данных к обучению, поскольку категориальный тип позволяет быстро извлечь коды категорий, присвоенные pandas.\n",
    "\n",
    "Посмотрим на кардинальность столбцов перед преобразованием"
   ]
  },
  {
   "cell_type": "code",
   "execution_count": 8,
   "id": "d17c7baf",
   "metadata": {},
   "outputs": [
    {
     "name": "stdout",
     "output_type": "stream",
     "text": [
      "385.375\n",
      "5.433\n",
      "16041.250\n"
     ]
    }
   ],
   "source": [
    "print('{:.3f}'.format(np.mean(df['CONTRAGENT'].value_counts())))\n",
    "print('{:.3f}'.format(np.mean(df['ARTICLE_NAME'].value_counts())))\n",
    "print('{:.3f}'.format(np.mean(df['ARTICLE_GROUP'].value_counts())))"
   ]
  },
  {
   "cell_type": "markdown",
   "id": "54183f18",
   "metadata": {},
   "source": [
    "Видим, что столбец с данными товарных группах имеет высокую кардинальность (мало уникальных значений), так что это хороший кандидат на приведение к категориальному типу. Оставшиеся два столбца трогать не будем"
   ]
  },
  {
   "cell_type": "code",
   "execution_count": 9,
   "id": "862476a0",
   "metadata": {},
   "outputs": [],
   "source": [
    "df.loc[:, 'ARTICLE_GROUP'] = df.loc[:, 'ARTICLE_GROUP'].astype('category')"
   ]
  },
  {
   "cell_type": "markdown",
   "id": "3639bade",
   "metadata": {},
   "source": [
    "Посмотрим, какой временной промежуток охватывают данные"
   ]
  },
  {
   "cell_type": "code",
   "execution_count": 10,
   "id": "56a9b7db",
   "metadata": {},
   "outputs": [
    {
     "data": {
      "text/html": [
       "<div>\n",
       "<style scoped>\n",
       "    .dataframe tbody tr th:only-of-type {\n",
       "        vertical-align: middle;\n",
       "    }\n",
       "\n",
       "    .dataframe tbody tr th {\n",
       "        vertical-align: top;\n",
       "    }\n",
       "\n",
       "    .dataframe thead th {\n",
       "        text-align: right;\n",
       "    }\n",
       "</style>\n",
       "<table border=\"1\" class=\"dataframe\">\n",
       "  <thead>\n",
       "    <tr style=\"text-align: right;\">\n",
       "      <th></th>\n",
       "      <th>YEAR</th>\n",
       "      <th>MONTH</th>\n",
       "    </tr>\n",
       "  </thead>\n",
       "  <tbody>\n",
       "    <tr>\n",
       "      <th>1</th>\n",
       "      <td>2017</td>\n",
       "      <td>4</td>\n",
       "    </tr>\n",
       "    <tr>\n",
       "      <th>128352</th>\n",
       "      <td>2018</td>\n",
       "      <td>2</td>\n",
       "    </tr>\n",
       "  </tbody>\n",
       "</table>\n",
       "</div>"
      ],
      "text/plain": [
       "        YEAR  MONTH\n",
       "1       2017      4\n",
       "128352  2018      2"
      ]
     },
     "execution_count": 10,
     "metadata": {},
     "output_type": "execute_result"
    }
   ],
   "source": [
    "df[['YEAR', 'MONTH']].sort_values(['YEAR', 'MONTH'], ascending=True).iloc[[1, -1], :]"
   ]
  },
  {
   "cell_type": "markdown",
   "id": "0ecef134",
   "metadata": {},
   "source": [
    "Видим, что временной охват меньше года. целесообразно избавиться от столбца год, и оставить только месяц"
   ]
  },
  {
   "cell_type": "code",
   "execution_count": 11,
   "id": "5ea008e9",
   "metadata": {},
   "outputs": [],
   "source": [
    "df = df.drop('YEAR', axis=1)"
   ]
  },
  {
   "cell_type": "code",
   "execution_count": 12,
   "id": "b772ff38",
   "metadata": {},
   "outputs": [
    {
     "data": {
      "text/plain": [
       "8953      5\n",
       "111612    1\n",
       "22931     6\n",
       "112704    1\n",
       "16078     5\n",
       "Name: MONTH, dtype: int64"
      ]
     },
     "execution_count": 12,
     "metadata": {},
     "output_type": "execute_result"
    }
   ],
   "source": [
    "# проверка правильности конвертирования\n",
    "df.sample(5, random_state=42)['MONTH']"
   ]
  },
  {
   "cell_type": "markdown",
   "id": "3e0be3f5",
   "metadata": {},
   "source": [
    "Заменяем цифровое представление месяцев буквенным обозначением"
   ]
  },
  {
   "cell_type": "code",
   "execution_count": 13,
   "id": "343eb683",
   "metadata": {},
   "outputs": [],
   "source": [
    "df.loc[:, 'MONTH'] = df.loc[:, 'MONTH'].replace(dict((enumerate(calendar.month_abbr))))"
   ]
  },
  {
   "cell_type": "code",
   "execution_count": 14,
   "id": "be63590e",
   "metadata": {},
   "outputs": [
    {
     "data": {
      "text/plain": [
       "8953      May\n",
       "111612    Jan\n",
       "22931     Jun\n",
       "112704    Jan\n",
       "16078     May\n",
       "Name: MONTH, dtype: object"
      ]
     },
     "execution_count": 14,
     "metadata": {},
     "output_type": "execute_result"
    }
   ],
   "source": [
    "# проверка правильности конвертирования\n",
    "df.sample(5, random_state=42)['MONTH']"
   ]
  },
  {
   "cell_type": "markdown",
   "id": "cf5acefb",
   "metadata": {},
   "source": [
    "Теперь создаем категориальный тип под данные с учетом перехода через новый год"
   ]
  },
  {
   "cell_type": "code",
   "execution_count": 15,
   "id": "95c91ba7",
   "metadata": {},
   "outputs": [],
   "source": [
    "ct = pd.CategoricalDtype(['Apr', 'May', 'Jun', 'Jul','Aug', 'Sep',\n",
    "                          'Oct', 'Nov', 'Dec', 'Jan', 'Feb'],\n",
    "                         ordered=True)"
   ]
  },
  {
   "cell_type": "code",
   "execution_count": 16,
   "id": "dcd40f4d",
   "metadata": {},
   "outputs": [],
   "source": [
    "df.loc[:, 'MONTH'] = df.loc[:, 'MONTH'].astype(ct)"
   ]
  },
  {
   "cell_type": "code",
   "execution_count": 17,
   "id": "c8e5f38b",
   "metadata": {},
   "outputs": [
    {
     "name": "stdout",
     "output_type": "stream",
     "text": [
      "<class 'pandas.core.frame.DataFrame'>\n",
      "Int64Index: 128330 entries, 0 to 128352\n",
      "Data columns (total 6 columns):\n",
      " #   Column         Non-Null Count   Dtype   \n",
      "---  ------         --------------   -----   \n",
      " 0   MONTH          128330 non-null  category\n",
      " 1   CONTRAGENT     128330 non-null  object  \n",
      " 2   ARTICLE_NAME   128330 non-null  object  \n",
      " 3   ARTICLE_GROUP  128330 non-null  category\n",
      " 4   SALES          128330 non-null  float64 \n",
      " 5   STORE_SALES    128330 non-null  float64 \n",
      "dtypes: category(2), float64(2), object(2)\n",
      "memory usage: 5.1+ MB\n"
     ]
    }
   ],
   "source": [
    "df.info()"
   ]
  },
  {
   "cell_type": "markdown",
   "id": "a302cf08",
   "metadata": {},
   "source": [
    "Для столбцов с числовыми типами доступна дополнительная статистика"
   ]
  },
  {
   "cell_type": "code",
   "execution_count": 18,
   "id": "1a3027e6",
   "metadata": {},
   "outputs": [
    {
     "data": {
      "text/html": [
       "<div>\n",
       "<style scoped>\n",
       "    .dataframe tbody tr th:only-of-type {\n",
       "        vertical-align: middle;\n",
       "    }\n",
       "\n",
       "    .dataframe tbody tr th {\n",
       "        vertical-align: top;\n",
       "    }\n",
       "\n",
       "    .dataframe thead th {\n",
       "        text-align: right;\n",
       "    }\n",
       "</style>\n",
       "<table border=\"1\" class=\"dataframe\">\n",
       "  <thead>\n",
       "    <tr style=\"text-align: right;\">\n",
       "      <th></th>\n",
       "      <th>SALES</th>\n",
       "      <th>STORE_SALES</th>\n",
       "    </tr>\n",
       "  </thead>\n",
       "  <tbody>\n",
       "    <tr>\n",
       "      <th>count</th>\n",
       "      <td>1.283300e+05</td>\n",
       "      <td>128330.000000</td>\n",
       "    </tr>\n",
       "    <tr>\n",
       "      <th>mean</th>\n",
       "      <td>6.564316e+03</td>\n",
       "      <td>22.681679</td>\n",
       "    </tr>\n",
       "    <tr>\n",
       "      <th>std</th>\n",
       "      <td>2.892762e+04</td>\n",
       "      <td>239.574553</td>\n",
       "    </tr>\n",
       "    <tr>\n",
       "      <th>min</th>\n",
       "      <td>-6.490000e+03</td>\n",
       "      <td>-4996.000000</td>\n",
       "    </tr>\n",
       "    <tr>\n",
       "      <th>25%</th>\n",
       "      <td>0.000000e+00</td>\n",
       "      <td>0.000000</td>\n",
       "    </tr>\n",
       "    <tr>\n",
       "      <th>50%</th>\n",
       "      <td>3.300000e+02</td>\n",
       "      <td>1.000000</td>\n",
       "    </tr>\n",
       "    <tr>\n",
       "      <th>75%</th>\n",
       "      <td>3.250000e+03</td>\n",
       "      <td>4.000000</td>\n",
       "    </tr>\n",
       "    <tr>\n",
       "      <th>max</th>\n",
       "      <td>1.616600e+06</td>\n",
       "      <td>16271.750000</td>\n",
       "    </tr>\n",
       "  </tbody>\n",
       "</table>\n",
       "</div>"
      ],
      "text/plain": [
       "              SALES    STORE_SALES\n",
       "count  1.283300e+05  128330.000000\n",
       "mean   6.564316e+03      22.681679\n",
       "std    2.892762e+04     239.574553\n",
       "min   -6.490000e+03   -4996.000000\n",
       "25%    0.000000e+00       0.000000\n",
       "50%    3.300000e+02       1.000000\n",
       "75%    3.250000e+03       4.000000\n",
       "max    1.616600e+06   16271.750000"
      ]
     },
     "execution_count": 18,
     "metadata": {},
     "output_type": "execute_result"
    }
   ],
   "source": [
    "df.describe()"
   ]
  },
  {
   "cell_type": "markdown",
   "id": "ef264a76",
   "metadata": {},
   "source": [
    "Мы видим, что есть записи, в которых продажи значатся отрицательными. В исключительном случае магазин мог не продавать товар вообще и принимать только возвраты, но вероятнее всего, это просто выброс. Данные имеют очень высокое стандартное отклонение, которое значительно превышает среднее.\n",
    "\n",
    "Кроме того, заметим, что 1-й квантиль у обоих признаков равен нулю.\n",
    "\n",
    "Посмотрим на кол-во записей с отрицательными продажами"
   ]
  },
  {
   "cell_type": "code",
   "execution_count": 19,
   "id": "fea08a6e",
   "metadata": {
    "scrolled": true,
    "tags": []
   },
   "outputs": [
    {
     "name": "stdout",
     "output_type": "stream",
     "text": [
      "282\n",
      "55\n"
     ]
    }
   ],
   "source": [
    "print(df.loc[df['STORE_SALES'] < 0, 'STORE_SALES'].count())\n",
    "print(df.loc[df['SALES'] < 0, 'SALES'].count())"
   ]
  },
  {
   "cell_type": "markdown",
   "id": "6dd52ea6",
   "metadata": {},
   "source": [
    "Не очень много, поэтому их можно удалить. По отдельным позициям возвраты вполне возможны, оставим как есть"
   ]
  },
  {
   "cell_type": "code",
   "execution_count": 20,
   "id": "4164070f-221e-4dee-a323-166014c38fd1",
   "metadata": {},
   "outputs": [],
   "source": [
    "df = df[(df['STORE_SALES'] >= 0) & (df['SALES'] >= 0)]"
   ]
  },
  {
   "cell_type": "markdown",
   "id": "69a0230d",
   "metadata": {},
   "source": [
    "При значительной доле нулевых значений графики будут получаться не очень информативными. Посмотрим для начала отношение числа записей с нулевыми значениями к общему числу записей в разрезе месяцев, возможно, они сконцентрированы в конкретном временном периоде"
   ]
  },
  {
   "cell_type": "code",
   "execution_count": 21,
   "id": "677720a8",
   "metadata": {},
   "outputs": [
    {
     "data": {
      "text/plain": [
       "MONTH\n",
       "Apr    1.000000\n",
       "May    0.363860\n",
       "Jun    0.358789\n",
       "Jul         NaN\n",
       "Aug    0.346633\n",
       "Sep    0.365653\n",
       "Oct    0.357374\n",
       "Nov    0.346101\n",
       "Dec    0.384088\n",
       "Jan    0.369758\n",
       "Feb    0.361875\n",
       "Name: STORE_SALES, dtype: float64"
      ]
     },
     "execution_count": 21,
     "metadata": {},
     "output_type": "execute_result"
    }
   ],
   "source": [
    "all_data_store = df.groupby('MONTH')['STORE_SALES'].count()\n",
    "only_zero_sales_store = df.loc[df['STORE_SALES'] == 0, :].groupby('MONTH')['STORE_SALES'].count()\n",
    "only_zero_sales_store / all_data_store"
   ]
  },
  {
   "cell_type": "markdown",
   "id": "7c987e40",
   "metadata": {},
   "source": [
    "Для общих продаж получается похожая статистика"
   ]
  },
  {
   "cell_type": "code",
   "execution_count": 22,
   "id": "1dde9799",
   "metadata": {},
   "outputs": [
    {
     "data": {
      "text/plain": [
       "False"
      ]
     },
     "execution_count": 22,
     "metadata": {},
     "output_type": "execute_result"
    }
   ],
   "source": [
    "np.any(df.loc[df['MONTH'] == 'Apr', ['STORE_SALES', 'SALES']])"
   ]
  },
  {
   "cell_type": "markdown",
   "id": "f7062ad7",
   "metadata": {},
   "source": [
    "Выясняется, что данные о продажах за апрель равны нулю. Поскольку это целевая переменная, их нужно будет отбросить. Кроме того, полностью отсутствуют данные за июль. Для большинства других месяцев около записи с нулевыми продажами магазина составляют около трети от общего число"
   ]
  },
  {
   "cell_type": "code",
   "execution_count": 23,
   "id": "b6f7407e",
   "metadata": {},
   "outputs": [],
   "source": [
    "df = df[df['MONTH'] != 'Apr']"
   ]
  },
  {
   "cell_type": "markdown",
   "id": "835d7e6f",
   "metadata": {},
   "source": [
    "Также удалим лишние категории"
   ]
  },
  {
   "cell_type": "code",
   "execution_count": 24,
   "id": "e662e3cf",
   "metadata": {},
   "outputs": [],
   "source": [
    "df['MONTH'].cat.remove_categories(['Apr', 'Jul'], inplace=True)"
   ]
  },
  {
   "cell_type": "markdown",
   "id": "57e3395b",
   "metadata": {},
   "source": [
    "Построим графики распределения продаж"
   ]
  },
  {
   "cell_type": "code",
   "execution_count": 25,
   "id": "8b8b3121",
   "metadata": {},
   "outputs": [
    {
     "data": {
      "text/plain": [
       "<AxesSubplot:xlabel='STORE_SALES'>"
      ]
     },
     "execution_count": 25,
     "metadata": {},
     "output_type": "execute_result"
    },
    {
     "data": {
      "image/png": "[encoded data removed]",
      "text/plain": [
       "<Figure size 432x288 with 1 Axes>"
      ]
     },
     "metadata": {
      "needs_background": "light"
     },
     "output_type": "display_data"
    }
   ],
   "source": [
    "sns.boxplot(data=df, x='STORE_SALES')"
   ]
  },
  {
   "cell_type": "code",
   "execution_count": 26,
   "id": "a5bae6f0",
   "metadata": {},
   "outputs": [
    {
     "data": {
      "text/plain": [
       "<AxesSubplot:xlabel='SALES'>"
      ]
     },
     "execution_count": 26,
     "metadata": {},
     "output_type": "execute_result"
    },
    {
     "data": {
      "image/png": "[encoded data removed]",
      "text/plain": [
       "<Figure size 432x288 with 1 Axes>"
      ]
     },
     "metadata": {
      "needs_background": "light"
     },
     "output_type": "display_data"
    }
   ],
   "source": [
    "sns.boxplot(data=df, x='SALES')"
   ]
  },
  {
   "cell_type": "markdown",
   "id": "faf476c5",
   "metadata": {},
   "source": [
    "Мы видим, что выборка сильно смещена вправо. Для обучения моделей уберем 2.5% самых больших значений, поскольку они с наибольшей вероятностью являются выбросами\n",
    "\n",
    "Рассчитаем, сколько записей мы удалим"
   ]
  },
  {
   "cell_type": "code",
   "execution_count": 27,
   "id": "c649bc5e-2c02-42fe-877f-b0bf701e450d",
   "metadata": {},
   "outputs": [
    {
     "name": "stdout",
     "output_type": "stream",
     "text": [
      "0\n",
      "0\n"
     ]
    }
   ],
   "source": [
    "print(df.loc[df['STORE_SALES'] < 0, 'STORE_SALES'].count())\n",
    "print(df.loc[df['SALES'] < 0, 'SALES'].count())"
   ]
  },
  {
   "cell_type": "code",
   "execution_count": 28,
   "id": "b5609646",
   "metadata": {},
   "outputs": [
    {
     "data": {
      "text/plain": [
       "5058"
      ]
     },
     "execution_count": 28,
     "metadata": {},
     "output_type": "execute_result"
    }
   ],
   "source": [
    "q_sales, q_store = df.quantile(.975)\n",
    "len(df.query(\"SALES > @q_sales or STORE_SALES > @q_store\"))"
   ]
  },
  {
   "cell_type": "markdown",
   "id": "6ff8a5b3",
   "metadata": {},
   "source": [
    "Всего около 5 тысяч записей, что вполне приемлемо"
   ]
  },
  {
   "cell_type": "code",
   "execution_count": 29,
   "id": "7e30c45e",
   "metadata": {},
   "outputs": [],
   "source": [
    "df = df.query(\"SALES <= @q_sales and STORE_SALES <= @q_store\").reset_index(drop=True)"
   ]
  },
  {
   "cell_type": "markdown",
   "id": "173cf890",
   "metadata": {},
   "source": [
    "Посмотрим на средние уровни продаж в категориях в разрезе месяцев"
   ]
  },
  {
   "cell_type": "code",
   "execution_count": 30,
   "id": "e50c3385",
   "metadata": {},
   "outputs": [],
   "source": [
    "gb = df.groupby(['MONTH', 'ARTICLE_GROUP'])['SALES'].mean().to_frame().reset_index()"
   ]
  },
  {
   "cell_type": "code",
   "execution_count": 31,
   "id": "6ad5f811",
   "metadata": {},
   "outputs": [
    {
     "data": {
      "image/png": "[encoded data removed]",
      "text/plain": [
       "<Figure size 1080x576 with 1 Axes>"
      ]
     },
     "metadata": {
      "needs_background": "light"
     },
     "output_type": "display_data"
    }
   ],
   "source": [
    "fig, ax = plt.subplots(figsize=(15, 8))\n",
    "sns.lineplot(ax=ax, data=gb, x='MONTH', y='SALES',\n",
    "             hue='ARTICLE_GROUP', linewidth = 2);"
   ]
  },
  {
   "cell_type": "markdown",
   "id": "82f8e804",
   "metadata": {},
   "source": [
    "По графику видно, что продажи существенно отличаются в разных категориях"
   ]
  },
  {
   "cell_type": "markdown",
   "id": "21b9b86c",
   "metadata": {},
   "source": [
    "Как мы видим, две категории вообще имеют нулевые продажи"
   ]
  },
  {
   "cell_type": "code",
   "execution_count": 32,
   "id": "8caf683c",
   "metadata": {},
   "outputs": [],
   "source": [
    "gb_store = df.groupby(['MONTH', 'ARTICLE_GROUP'])['STORE_SALES'].mean().to_frame().reset_index()"
   ]
  },
  {
   "cell_type": "code",
   "execution_count": 33,
   "id": "634f8224",
   "metadata": {},
   "outputs": [
    {
     "data": {
      "image/png": "[encoded data removed]",
      "text/plain": [
       "<Figure size 1080x576 with 1 Axes>"
      ]
     },
     "metadata": {
      "needs_background": "light"
     },
     "output_type": "display_data"
    }
   ],
   "source": [
    "fig, ax = plt.subplots(figsize=(15, 8))\n",
    "sns.lineplot(ax=ax, data=gb_store, x='MONTH', y='STORE_SALES',\n",
    "             hue='ARTICLE_GROUP', linewidth=2);"
   ]
  },
  {
   "cell_type": "markdown",
   "id": "4f0d66d7",
   "metadata": {},
   "source": [
    "Сравним топы категорий в целом и в магазине"
   ]
  },
  {
   "cell_type": "code",
   "execution_count": 34,
   "id": "4c19fc41",
   "metadata": {},
   "outputs": [
    {
     "data": {
      "text/plain": [
       "ARTICLE_GROUP\n",
       "BEER            19.499087\n",
       "NON-ALCOHOL      7.503542\n",
       "KEGS             7.431172\n",
       "WINE             4.449580\n",
       "LIQUOR           0.708212\n",
       "REF              0.000000\n",
       "STR_SUPPLIES     0.000000\n",
       "DUNNAGE               NaN\n",
       "Name: STORE_SALES, dtype: float64"
      ]
     },
     "execution_count": 34,
     "metadata": {},
     "output_type": "execute_result"
    }
   ],
   "source": [
    "gb_store.groupby('ARTICLE_GROUP')['STORE_SALES'].mean().sort_values(ascending=False)"
   ]
  },
  {
   "cell_type": "code",
   "execution_count": 35,
   "id": "a2aa3f53",
   "metadata": {},
   "outputs": [
    {
     "data": {
      "text/plain": [
       "ARTICLE_GROUP\n",
       "NON-ALCOHOL     8900.078223\n",
       "REF             8561.166667\n",
       "LIQUOR          6114.872452\n",
       "STR_SUPPLIES    3468.040210\n",
       "BEER            3073.548727\n",
       "WINE            2884.521971\n",
       "KEGS               0.000000\n",
       "DUNNAGE                 NaN\n",
       "Name: SALES, dtype: float64"
      ]
     },
     "execution_count": 35,
     "metadata": {},
     "output_type": "execute_result"
    }
   ],
   "source": [
    "gb.groupby('ARTICLE_GROUP')['SALES'].mean().sort_values(ascending=False)"
   ]
  },
  {
   "cell_type": "code",
   "execution_count": 36,
   "id": "e197d177",
   "metadata": {},
   "outputs": [
    {
     "data": {
      "text/plain": [
       "count                              117740\n",
       "unique                              23232\n",
       "top       LA VIELLE FERME CDV RED - 750ML\n",
       "freq                                   18\n",
       "Name: ARTICLE_NAME, dtype: object"
      ]
     },
     "execution_count": 36,
     "metadata": {},
     "output_type": "execute_result"
    }
   ],
   "source": [
    "df['ARTICLE_NAME'].describe()"
   ]
  },
  {
   "cell_type": "code",
   "execution_count": 37,
   "id": "0d3384cf",
   "metadata": {
    "scrolled": true
   },
   "outputs": [
    {
     "data": {
      "text/plain": [
       "count                                117740\n",
       "unique                                  332\n",
       "top       REPUBLIC NATIONAL DISTRIBUTING CO\n",
       "freq                                   9491\n",
       "Name: CONTRAGENT, dtype: object"
      ]
     },
     "execution_count": 37,
     "metadata": {},
     "output_type": "execute_result"
    }
   ],
   "source": [
    "df['CONTRAGENT'].describe()"
   ]
  },
  {
   "cell_type": "markdown",
   "id": "9d80a90e",
   "metadata": {},
   "source": [
    "Тест на корреляцию (сравниваем одни величины, логично предположить линейную зависимость)"
   ]
  },
  {
   "cell_type": "code",
   "execution_count": 38,
   "id": "fe2bd7af",
   "metadata": {},
   "outputs": [
    {
     "data": {
      "text/plain": [
       "0.3448"
      ]
     },
     "execution_count": 38,
     "metadata": {},
     "output_type": "execute_result"
    }
   ],
   "source": [
    "np.round(df['SALES'].corr(df['STORE_SALES']), 4)"
   ]
  },
  {
   "cell_type": "markdown",
   "id": "c32b0cc2",
   "metadata": {},
   "source": [
    "## Выводы по EDA\n",
    "\n",
    "1. Данные  содержат незначительное число пропусков, которые можно безопасно убрать. Уровни продаж имеют вероятные ошибки в данных (отрицательные продажи) и высокую дисперсию. Частично компенсируем это, убрав отрицательные продажи и 2.5% самых больших значений в данных\n",
    "\n",
    "2. Продажи в апреле равны нулю, поскольку один из уровней продаж (общий) является целевой переменной, целесообразно убрать их совсем. Кроме того, полностью отсутствуют данные за июль.\n",
    "\n",
    "3. Временной период представленной выборки составляет менее года. Это не позволяет выявить (потенциальную) сезонную зависимость, поэтому признак года убрали совсем, а месяцы переиндексировали в соответствии с хронологическим порядком следования (апрель - февраль), исключая июль. Также исключили признак кода товара, поскольку он обозначает то же, что и название товара, но менее удобен для восприятия. Название товаров преобразуем в числа перед передачей в модель.\n",
    "\n",
    "4. Уровень продаж зависит от категории, также в части категорий продажи равны нулю.\n",
    "\n",
    "5. Между целевой переменной и уровнем продаж в магазине существует средней силы линейная корреляция."
   ]
  },
  {
   "cell_type": "markdown",
   "id": "1f6066f7",
   "metadata": {},
   "source": [
    "# ML"
   ]
  },
  {
   "cell_type": "markdown",
   "id": "1ee43598-573b-48bf-bdcf-819a5fa9cecc",
   "metadata": {},
   "source": [
    "## Предобработка"
   ]
  },
  {
   "cell_type": "markdown",
   "id": "97366e60",
   "metadata": {},
   "source": [
    "Повторим загрузку данных, в этот раз перед удалением выбросов выделим тренировочную часть и будем удалять их только из нее. Таким образом тестовая выборка будет лучше моделировать поведение модели на новых данных.\n",
    "\n",
    "Исключением будут являться пропуски и отрицательные продажи, т.к. это скорее ошибка в данных, чем аномальное значение"
   ]
  },
  {
   "cell_type": "code",
   "execution_count": 39,
   "id": "15777c23",
   "metadata": {},
   "outputs": [],
   "source": [
    "df = pd.read_csv(r'.\\junior\\regression\\data_regression_for_task.csv')\n",
    "df = df.dropna(subset=['CONTRAGENT', 'ARTICLE_GROUP'])\n",
    "df = df.drop(['ARTICLE_CODE', 'YEAR'],\n",
    "             axis=1)  # пропусков мало, будем считать тех. ошибкой и сбрасывать в т.ч. на тест части\n",
    "df.loc[:, 'ARTICLE_GROUP'] = df.loc[:, 'ARTICLE_GROUP'].astype('category')\n",
    "df.loc[:, 'MONTH'] = df.loc[:, 'MONTH'].replace(dict((enumerate(calendar.month_abbr))))\n",
    "df.loc[:, 'MONTH'] = df.loc[:, 'MONTH'].astype(ct)\n",
    "df = df[(df['SALES'] >= 0) & (df['STORE_SALES'] >= 0)]  # отриц. продажи сбрасываем в т.ч. на тесте\n",
    "df = df[df['MONTH'] != 'Apr']\n",
    "df['MONTH'].cat.remove_categories(['Apr', 'Jul'], inplace=True)"
   ]
  },
  {
   "cell_type": "markdown",
   "id": "e18ca0e5-f927-498e-9646-973e19711d7d",
   "metadata": {},
   "source": [
    "ТЕСТ (убираем категории с нулячими продажами)"
   ]
  },
  {
   "cell_type": "code",
   "execution_count": 40,
   "id": "aecd3e60-f688-418d-b2a1-f13df3828ab6",
   "metadata": {},
   "outputs": [
    {
     "data": {
      "text/plain": [
       "ARTICLE_GROUP\n",
       "DUNNAGE         0.0\n",
       "KEGS            0.0\n",
       "REF        281340.0\n",
       "Name: SALES, dtype: float64"
      ]
     },
     "execution_count": 40,
     "metadata": {},
     "output_type": "execute_result"
    }
   ],
   "source": [
    "df.groupby('ARTICLE_GROUP')['SALES'].sum().sort_values().head(3)"
   ]
  },
  {
   "cell_type": "code",
   "execution_count": 41,
   "id": "7d48eadd-df5d-41dd-ad5f-da5dd9e967b9",
   "metadata": {},
   "outputs": [],
   "source": [
    "df = df[~df['ARTICLE_GROUP'].isin(['DUNNAGE', 'KEGS'])]"
   ]
  },
  {
   "cell_type": "markdown",
   "id": "1269c25e",
   "metadata": {},
   "source": [
    "Заменяем названия на порядковый номер месяца *в нашей выборке*"
   ]
  },
  {
   "cell_type": "code",
   "execution_count": 42,
   "id": "6c503b6c-205f-4f4a-8ef7-beb0a34121ba",
   "metadata": {},
   "outputs": [
    {
     "data": {
      "text/plain": [
       "ARTICLE_GROUP\n",
       "DUNNAGE         0.0\n",
       "KEGS            0.0\n",
       "REF        281340.0\n",
       "Name: SALES, dtype: float64"
      ]
     },
     "execution_count": 42,
     "metadata": {},
     "output_type": "execute_result"
    }
   ],
   "source": [
    "df.groupby('ARTICLE_GROUP')['SALES'].sum().sort_values().head(3)"
   ]
  },
  {
   "cell_type": "code",
   "execution_count": 43,
   "id": "2af3874f",
   "metadata": {},
   "outputs": [],
   "source": [
    "df['MONTH'] = df['MONTH'].cat.codes + 1"
   ]
  },
  {
   "cell_type": "markdown",
   "id": "9108b053",
   "metadata": {},
   "source": [
    "Функции предобработки для текстовых фич"
   ]
  },
  {
   "cell_type": "code",
   "execution_count": 44,
   "id": "655669ac",
   "metadata": {},
   "outputs": [],
   "source": [
    "def preprocess_text_feature(text: str) -> str:\n",
    "    \"\"\"Убирает не цифро-буквенные символы\n",
    "    \n",
    "    Args:\n",
    "      text: входная строка\n",
    "      \n",
    "    Returns:\n",
    "      text: обработанная строка\n",
    "    \"\"\"\n",
    "    \n",
    "    text = text.replace('\\r', ' ')\n",
    "    text = text.replace('\\t', ' ')\n",
    "    text = text.replace('\\n', ' ')\n",
    "    text = re.sub('[^A-Za-z0-9]+', ' ', text)\n",
    "    text = text.lower().strip()\n",
    "    return text\n",
    "\n",
    "\n",
    "def preprocess_name(text: str) -> str:\n",
    "    \"\"\"Убирает стоп-слова из строки\n",
    "    \n",
    "    Испольуется английский словарь библиотеки nltk\n",
    "    \n",
    "    Args:\n",
    "      text: входная строка\n",
    "      \n",
    "    Returns:\n",
    "      text: обработанная строка    \n",
    "    \"\"\"\n",
    "    \n",
    "    stopwords = nltk.corpus.stopwords.words('english')\n",
    "    return ' '.join(w for w in text.split() if w not in stopwords)"
   ]
  },
  {
   "cell_type": "code",
   "execution_count": 45,
   "id": "4568de3a",
   "metadata": {
    "scrolled": true
   },
   "outputs": [],
   "source": [
    "# takes a while to compute\n",
    "df.loc[:, 'CONTRAGENT'] = df.loc[:, 'CONTRAGENT'].apply(preprocess_text_feature)\n",
    "df.loc[:, 'ARTICLE_NAME'] = df.loc[:, 'ARTICLE_NAME'].apply(preprocess_text_feature)\n",
    "df.loc[:, 'ARTICLE_NAME'] = df.loc[:, 'ARTICLE_NAME'].apply(preprocess_name)"
   ]
  },
  {
   "cell_type": "markdown",
   "id": "f0beaaed",
   "metadata": {},
   "source": [
    "Дропаем дубликаты, возникшие из-за товаров с одинаковым названием, но разным кодом"
   ]
  },
  {
   "cell_type": "code",
   "execution_count": 46,
   "id": "010e4fb9",
   "metadata": {},
   "outputs": [],
   "source": [
    "df = df.drop_duplicates()"
   ]
  },
  {
   "cell_type": "markdown",
   "id": "a38341c2",
   "metadata": {},
   "source": [
    "### Feature engineering (*отбраковано*)\n",
    "\n",
    "Создадим новые признаки, которые будут содержать продажи за предыдущий месяц"
   ]
  },
  {
   "cell_type": "code",
   "execution_count": 47,
   "id": "7a8f565c",
   "metadata": {},
   "outputs": [],
   "source": [
    "# df = df.sort_values(by='MONTH')\n",
    "\n",
    "# for lag in 1,:\n",
    "#     df['sales_lag_{}'.format(lag)] = df.groupby('ARTICLE_NAME')['STORE_SALES'].shift(lag)"
   ]
  },
  {
   "cell_type": "markdown",
   "id": "69f733be",
   "metadata": {},
   "source": [
    "Пропуски будут у первых месяцев - при появлении товара. Их можно либо заполнить нулем (создадим перекос в данных), либо дропнуть. Дроп будет существенным, пробуем заполнить нулем"
   ]
  },
  {
   "cell_type": "code",
   "execution_count": 48,
   "id": "eb10a643",
   "metadata": {},
   "outputs": [],
   "source": [
    "# df.loc[:, ['sales_lag_1']] = df.loc[:, 'sales_lag_1'].fillna(0)"
   ]
  },
  {
   "cell_type": "code",
   "execution_count": 49,
   "id": "53cc6ffd",
   "metadata": {},
   "outputs": [],
   "source": [
    "# df.isnull().sum()"
   ]
  },
  {
   "cell_type": "markdown",
   "id": "35b05ce8-178e-4e1a-b92b-559805b7b8d1",
   "metadata": {},
   "source": [
    "Результат себя не оправдал, убираем. Доп. фича не улучшает деревянные модели, но ломает линейные"
   ]
  },
  {
   "cell_type": "markdown",
   "id": "b3c2deb1",
   "metadata": {},
   "source": [
    "### Разделение на train, validation и test"
   ]
  },
  {
   "cell_type": "code",
   "execution_count": 50,
   "id": "dab43ad4",
   "metadata": {},
   "outputs": [],
   "source": [
    "train_val, test = df[df['MONTH'] != 8], df[df['MONTH'] == 8]  # 8 - код февраля\n",
    "train_val = train_val.query(\n",
    "    \"SALES <= @q_sales and STORE_SALES <= @q_store\"\n",
    ")  # квантили берем из расчета в целом по выборке\n",
    "X_train_val, y_train_val = df.drop('SALES', axis=1), df['SALES']\n",
    "X_test, y_test = test.drop('SALES', axis=1), test['SALES']\n",
    "X_train_val = X_train_val.reset_index(drop=True)\n",
    "\n",
    "X_train, X_val, y_train, y_val = train_test_split(X_train_val,\n",
    "                                                  y_train_val,\n",
    "                                                  shuffle=False,\n",
    "                                                  test_size=0.1)\n",
    "X_train = X_train.reset_index(drop=True)\n",
    "X_val = X_val.reset_index(drop=True)\n",
    "X_test = X_test.reset_index(drop=True)"
   ]
  },
  {
   "cell_type": "code",
   "execution_count": 51,
   "id": "f722dbda",
   "metadata": {},
   "outputs": [
    {
     "name": "stdout",
     "output_type": "stream",
     "text": [
      "(107275, 5) (107275,)\n",
      "(11920, 5) (11920,)\n",
      "(12876, 5) (12876,)\n"
     ]
    }
   ],
   "source": [
    "print(X_train.shape, y_train.shape)\n",
    "print(X_val.shape, y_val.shape)\n",
    "print(X_test.shape, y_test.shape)"
   ]
  },
  {
   "cell_type": "markdown",
   "id": "e9d21d61",
   "metadata": {},
   "source": [
    "### Подготовка признаков для передачи в модель"
   ]
  },
  {
   "cell_type": "markdown",
   "id": "584e8c5b",
   "metadata": {},
   "source": [
    "Кодирование категориальных признаков"
   ]
  },
  {
   "cell_type": "code",
   "execution_count": 52,
   "id": "9c9e65cd",
   "metadata": {},
   "outputs": [],
   "source": [
    "ohe = OneHotEncoder(handle_unknown='ignore')\n",
    "ohe_train = ohe.fit_transform(X_train[['ARTICLE_GROUP', 'CONTRAGENT']])\n",
    "ohe_val = ohe.transform(X_val[['ARTICLE_GROUP', 'CONTRAGENT']])\n",
    "ohe_test = ohe.transform(X_test[['ARTICLE_GROUP', 'CONTRAGENT']])\n",
    "\n",
    "X_train = X_train.drop(['ARTICLE_GROUP', 'CONTRAGENT'], axis=1)\n",
    "X_val = X_val.drop(['ARTICLE_GROUP', 'CONTRAGENT'], axis=1)\n",
    "X_test = X_test.drop(['ARTICLE_GROUP', 'CONTRAGENT'], axis=1)"
   ]
  },
  {
   "cell_type": "markdown",
   "id": "fe09189d",
   "metadata": {},
   "source": [
    "Векторизация текстовых признаков"
   ]
  },
  {
   "cell_type": "code",
   "execution_count": 53,
   "id": "d8b1ea9b",
   "metadata": {},
   "outputs": [],
   "source": [
    "vectorizer = TfidfVectorizer(ngram_range=(1, 3), min_df=3, max_features=10000)\n",
    "train_name_tfidf = vectorizer.fit_transform(X_train['ARTICLE_NAME'].values)\n",
    "val_name_tfidf = vectorizer.transform(X_val['ARTICLE_NAME'].values)\n",
    "test_name_tfidf = vectorizer.transform(X_test['ARTICLE_NAME'].values)\n",
    "X_train = X_train.drop('ARTICLE_NAME', axis=1)\n",
    "X_val = X_val.drop('ARTICLE_NAME', axis=1)\n",
    "X_test = X_test.drop('ARTICLE_NAME', axis=1)"
   ]
  },
  {
   "cell_type": "markdown",
   "id": "d721daba",
   "metadata": {},
   "source": [
    "Масштабирование численных признаков"
   ]
  },
  {
   "cell_type": "code",
   "execution_count": 54,
   "id": "69555db1",
   "metadata": {},
   "outputs": [],
   "source": [
    "scaler = MinMaxScaler()\n",
    "X_train['STORE_SALES'] = scaler.fit_transform(X_train[['STORE_SALES']])\n",
    "X_val['STORE_SALES'] = scaler.transform(X_val[['STORE_SALES']])\n",
    "X_test['STORE_SALES'] = scaler.transform(X_test[['STORE_SALES']])"
   ]
  },
  {
   "cell_type": "markdown",
   "id": "de2d1a40",
   "metadata": {},
   "source": [
    "Конкатенация sparse-матриц в одну"
   ]
  },
  {
   "cell_type": "code",
   "execution_count": 55,
   "id": "96ce1b0d",
   "metadata": {},
   "outputs": [],
   "source": [
    "train_sparse = scipy.sparse.hstack((ohe_train, train_name_tfidf, X_train.values)).tocsr()\n",
    "val_sparse = scipy.sparse.hstack((ohe_val, val_name_tfidf, X_val.values)).tocsr()\n",
    "test_sparse = scipy.sparse.hstack((ohe_test, test_name_tfidf, X_test.values)).tocsr()"
   ]
  },
  {
   "cell_type": "markdown",
   "id": "32e3d59d",
   "metadata": {},
   "source": [
    "## Training"
   ]
  },
  {
   "cell_type": "markdown",
   "id": "13f7385f-ed37-4fe5-be75-02fee59e224d",
   "metadata": {},
   "source": [
    "Определение заданной метрики"
   ]
  },
  {
   "cell_type": "code",
   "execution_count": 56,
   "id": "1cb710a3",
   "metadata": {},
   "outputs": [],
   "source": [
    "def metric(y_true, y_pred):\n",
    "    \n",
    "    return np.sum(np.abs(y_true - y_pred)) / np.sum(y_pred) * 100"
   ]
  },
  {
   "cell_type": "markdown",
   "id": "03939792",
   "metadata": {},
   "source": [
    "### Sanity check (dummy regressor)"
   ]
  },
  {
   "cell_type": "code",
   "execution_count": 57,
   "id": "04b8cb83",
   "metadata": {},
   "outputs": [
    {
     "data": {
      "text/plain": [
       "98.89109520908968"
      ]
     },
     "execution_count": 57,
     "metadata": {},
     "output_type": "execute_result"
    }
   ],
   "source": [
    "dummy = DummyRegressor(strategy='median')\n",
    "dummy.fit(train_sparse, y_train)\n",
    "y_pred = dummy.predict(val_sparse)\n",
    "metric(y_pred, y_val)"
   ]
  },
  {
   "cell_type": "markdown",
   "id": "a951e18a-1acc-4191-b489-f23c4e99b4b9",
   "metadata": {},
   "source": [
    "Результат: немного варьируется, обычно около 99 на валидации. Другие модели должны давать результат не хуже этого уровня"
   ]
  },
  {
   "cell_type": "markdown",
   "id": "03b07696",
   "metadata": {},
   "source": [
    "### Ridge regression"
   ]
  },
  {
   "cell_type": "code",
   "execution_count": 58,
   "id": "989627cb",
   "metadata": {
    "scrolled": true
   },
   "outputs": [
    {
     "data": {
      "application/vnd.jupyter.widget-view+json": {
       "model_id": "ca59be6b72b849c1aa3bd9fb0c872424",
       "version_major": 2,
       "version_minor": 0
      },
      "text/plain": [
       "  0%|          | 0/20 [00:00<?, ?it/s]"
      ]
     },
     "metadata": {},
     "output_type": "display_data"
    }
   ],
   "source": [
    "alpha = np.linspace(0.1, 5, 20)\n",
    "array = [] \n",
    "for al in tqdm(alpha):\n",
    "    model = Ridge(solver='sparse_cg', random_state=42, alpha=al, max_iter=2000)\n",
    "    model.fit(train_sparse, y_train)\n",
    "    y_pred = model.predict(val_sparse)\n",
    "    array.append(metric(y_pred, y_val))\n",
    "    \n",
    "best_alpha = np.argmin(array)"
   ]
  },
  {
   "cell_type": "code",
   "execution_count": 59,
   "id": "1d9fe250",
   "metadata": {
    "tags": []
   },
   "outputs": [
    {
     "data": {
      "image/png": "[encoded data removed]",
      "text/plain": [
       "<Figure size 432x288 with 1 Axes>"
      ]
     },
     "metadata": {
      "needs_background": "light"
     },
     "output_type": "display_data"
    }
   ],
   "source": [
    "fig, ax = plt.subplots()\n",
    "ax.plot(alpha, array)\n",
    "ax.scatter(alpha, array)\n",
    "for i, txt in enumerate(np.round(array,3)):\n",
    "    ax.annotate((np.round(alpha[i], 3), np.round(txt, 3)), (alpha[i], array[i]))\n",
    "\n",
    "plt.title(\"Error for each alpha\")\n",
    "plt.xlabel(\"Alpha\")\n",
    "plt.ylabel(\"Error\")\n",
    "plt.show()"
   ]
  },
  {
   "cell_type": "code",
   "execution_count": 60,
   "id": "0da27750",
   "metadata": {},
   "outputs": [
    {
     "data": {
      "text/plain": [
       "97.2314"
      ]
     },
     "execution_count": 60,
     "metadata": {},
     "output_type": "execute_result"
    }
   ],
   "source": [
    "best_ridge_score = np.round(array[best_alpha], 4)\n",
    "best_ridge_score"
   ]
  },
  {
   "cell_type": "markdown",
   "id": "094ecd27",
   "metadata": {},
   "source": [
    "Результат: \n",
    "\n",
    "- __72__ (без добавленной фичи)\n",
    "- __84__ (без фичи и с убранными категориями с нулевыми продажами. непонятно, чего он расстроился)\n",
    "- __97__ (сократили размерность TF-IDF)\n",
    "\n",
    "С добавлением фичи сразу ломается (вероятно, из-за сильной корреляции - работает хуже дамми-регрессора)"
   ]
  },
  {
   "cell_type": "markdown",
   "id": "f2bbfb8c",
   "metadata": {},
   "source": [
    "### Random Forest"
   ]
  },
  {
   "cell_type": "markdown",
   "id": "76b47462",
   "metadata": {},
   "source": [
    "Для кросс-валидации используем сплиттер для временных рядов"
   ]
  },
  {
   "cell_type": "code",
   "execution_count": 61,
   "id": "59554a3a",
   "metadata": {},
   "outputs": [],
   "source": [
    "time_cv = TimeSeriesSplit()"
   ]
  },
  {
   "cell_type": "code",
   "execution_count": 62,
   "id": "5e631cd0",
   "metadata": {},
   "outputs": [],
   "source": [
    "params= {'bootstrap': [False],\n",
    "         'max_features': ['sqrt', None],\n",
    "         'max_depth': [3, 6, 10],\n",
    "         'n_estimators': [10, 20, 30],\n",
    "         'min_samples_leaf': [8, 4],\n",
    "         'min_samples_split': [5, 7],\n",
    "        }"
   ]
  },
  {
   "cell_type": "code",
   "execution_count": 63,
   "id": "53ad67eb",
   "metadata": {},
   "outputs": [],
   "source": [
    "model = RandomForestRegressor(random_state=42)\n",
    "cv = GridSearchCV(model,\n",
    "                  params,\n",
    "                  cv=time_cv,\n",
    "                  scoring=make_scorer(metric, greater_is_better=False),\n",
    "                  n_jobs=6)"
   ]
  },
  {
   "cell_type": "code",
   "execution_count": 64,
   "id": "8f488d53",
   "metadata": {},
   "outputs": [],
   "source": [
    "train_val_sparse = scipy.sparse.vstack((train_sparse, val_sparse)).tocsr()"
   ]
  },
  {
   "cell_type": "code",
   "execution_count": 65,
   "id": "0da949a3",
   "metadata": {},
   "outputs": [
    {
     "name": "stdout",
     "output_type": "stream",
     "text": [
      "Wall time: 3min 17s\n"
     ]
    },
    {
     "data": {
      "text/plain": [
       "GridSearchCV(cv=TimeSeriesSplit(gap=0, max_train_size=None, n_splits=5, test_size=None),\n",
       "             estimator=RandomForestRegressor(random_state=42), n_jobs=6,\n",
       "             param_grid={'bootstrap': [False], 'max_depth': [3, 6, 10],\n",
       "                         'max_features': ['sqrt', None],\n",
       "                         'min_samples_leaf': [8, 4],\n",
       "                         'min_samples_split': [5, 7],\n",
       "                         'n_estimators': [10, 20, 30]},\n",
       "             scoring=make_scorer(metric, greater_is_better=False))"
      ]
     },
     "execution_count": 65,
     "metadata": {},
     "output_type": "execute_result"
    }
   ],
   "source": [
    "%time cv.fit(train_val_sparse, y_train_val)"
   ]
  },
  {
   "cell_type": "code",
   "execution_count": 66,
   "id": "b45a211d",
   "metadata": {},
   "outputs": [
    {
     "data": {
      "text/plain": [
       "{'bootstrap': False,\n",
       " 'max_depth': 10,\n",
       " 'max_features': None,\n",
       " 'min_samples_leaf': 8,\n",
       " 'min_samples_split': 5,\n",
       " 'n_estimators': 30}"
      ]
     },
     "execution_count": 66,
     "metadata": {},
     "output_type": "execute_result"
    }
   ],
   "source": [
    "cv.best_params_"
   ]
  },
  {
   "cell_type": "code",
   "execution_count": 67,
   "id": "7d7fac6a",
   "metadata": {},
   "outputs": [
    {
     "data": {
      "text/plain": [
       "-81.66342847383287"
      ]
     },
     "execution_count": 67,
     "metadata": {},
     "output_type": "execute_result"
    }
   ],
   "source": [
    "cv.best_score_"
   ]
  },
  {
   "cell_type": "markdown",
   "id": "9705ff77-ed51-43ba-8a73-75dc6203cac2",
   "metadata": {},
   "source": [
    "Результат: __133__ - при размерности TF-IDF 20000, __81__ - при размерности TF-IDF 10000"
   ]
  },
  {
   "cell_type": "markdown",
   "id": "f7b79d3a",
   "metadata": {},
   "source": [
    "### LightGBM Regressor"
   ]
  },
  {
   "cell_type": "code",
   "execution_count": 68,
   "id": "541fe101",
   "metadata": {},
   "outputs": [],
   "source": [
    "time_cv = TimeSeriesSplit()\n",
    "train_val_sparse = scipy.sparse.vstack((train_sparse, val_sparse)).tocsr()\n",
    "model = lgb.LGBMRegressor()"
   ]
  },
  {
   "cell_type": "code",
   "execution_count": null,
   "id": "063a02e3",
   "metadata": {},
   "outputs": [],
   "source": [
    "params= {'learning_rate': [0.17, 0.19, 0.21],\n",
    "         'num_leaves': [15, 20],\n",
    "         'reg_lambda': [0.1, 0.4],\n",
    "         'max_depth': np.arange(3, 6),\n",
    "         'n_estimators': [500, 1000]}\n",
    "\n",
    "cv = GridSearchCV(model, params, cv=time_cv,\n",
    "                  scoring=make_scorer(metric, greater_is_better=False),\n",
    "                  n_jobs=6)"
   ]
  },
  {
   "cell_type": "code",
   "execution_count": null,
   "id": "9b5f8e4b",
   "metadata": {},
   "outputs": [],
   "source": [
    "%time cv.fit(train_val_sparse, y_train_val)"
   ]
  },
  {
   "cell_type": "code",
   "execution_count": null,
   "id": "a0c8d177",
   "metadata": {},
   "outputs": [],
   "source": [
    "cv.best_score_"
   ]
  },
  {
   "cell_type": "code",
   "execution_count": null,
   "id": "80d2d75b",
   "metadata": {
    "tags": []
   },
   "outputs": [],
   "source": [
    "cv.best_params_"
   ]
  },
  {
   "cell_type": "markdown",
   "id": "c3b65f9d",
   "metadata": {},
   "source": [
    "Чтобы не запускать GS повторно, отдельная ячейка с обучением модели с лучшими гиперпараметрами"
   ]
  },
  {
   "cell_type": "code",
   "execution_count": 70,
   "id": "9a9d06fc",
   "metadata": {},
   "outputs": [],
   "source": [
    "best_params_lgb = {\n",
    "    'learning_rate': 0.19,\n",
    "    'max_depth': 5,\n",
    "    'n_estimators': 1000,\n",
    "    'num_leaves': 15,\n",
    "    'reg_lambda': 0.1\n",
    "}"
   ]
  },
  {
   "cell_type": "code",
   "execution_count": 71,
   "id": "25697855",
   "metadata": {},
   "outputs": [],
   "source": [
    "# best_lgb = cv.best_estimator_  # раскомментить, если запускаем кросс-валидацию\n",
    "best_lgb = lgb.LGBMRegressor(**best_params_lgb).fit(train_val_sparse, y_train_val)"
   ]
  },
  {
   "cell_type": "markdown",
   "id": "dfea4129-7652-47dd-ae1f-769208a8d5ec",
   "metadata": {},
   "source": [
    "Результат: ~ __0.62__"
   ]
  },
  {
   "cell_type": "markdown",
   "id": "208c8322",
   "metadata": {},
   "source": [
    "### CatBoost Regressor"
   ]
  },
  {
   "cell_type": "code",
   "execution_count": null,
   "id": "c961982c",
   "metadata": {},
   "outputs": [],
   "source": [
    "cat_model = CatBoostRegressor(logging_level='Silent',\n",
    "                              random_state=42,\n",
    "                              eval_metric='MAPE')\n",
    "# todo: не допер, как же заставить его принимать кастомный скорер..."
   ]
  },
  {
   "cell_type": "code",
   "execution_count": null,
   "id": "109f54e3",
   "metadata": {},
   "outputs": [],
   "source": [
    "%%time\n",
    "cats_gs = cat_model.grid_search(\n",
    "    {\n",
    "        'learning_rate': [0.03, 0.05, 0.1], \n",
    "        'l2_leaf_reg': [0.5, 1],\n",
    "        'depth': [5, 7],\n",
    "        'n_estimators': [100, 200, 500]\n",
    "    },\n",
    "    train_val_sparse,\n",
    "    y_train_val,\n",
    "    cv=time_cv,\n",
    "    plot=True,\n",
    "    train_size=0.9\n",
    ")"
   ]
  },
  {
   "cell_type": "code",
   "execution_count": null,
   "id": "a0e4d803-41cb-400b-9bfb-4024237a8858",
   "metadata": {},
   "outputs": [],
   "source": [
    "best_cat_params = {\n",
    "    'depth': 5,\n",
    "    'l2_leaf_reg': 0.5,\n",
    "    'iterations': 100,\n",
    "    'learning_rate': 0.03\n",
    "}"
   ]
  },
  {
   "cell_type": "code",
   "execution_count": null,
   "id": "0958809c",
   "metadata": {},
   "outputs": [],
   "source": [
    "pr = cat_model.predict(val_sparse)"
   ]
  },
  {
   "cell_type": "code",
   "execution_count": null,
   "id": "a5aa3c60",
   "metadata": {},
   "outputs": [],
   "source": [
    "# metric(y_val, pr)"
   ]
  },
  {
   "cell_type": "markdown",
   "id": "702edeef-552b-4e99-9804-191d570304ff",
   "metadata": {},
   "source": [
    "Результат: __85__ (последний прогон). До этого иногда выдавало что-то около 70. У LGBM скор в любом случае был выше"
   ]
  },
  {
   "cell_type": "markdown",
   "id": "05ddf898",
   "metadata": {},
   "source": [
    "## Test time"
   ]
  },
  {
   "cell_type": "markdown",
   "id": "685694c9",
   "metadata": {},
   "source": [
    "Проверка лучшей модели (LightGBM) на тестовой выборке"
   ]
  },
  {
   "cell_type": "code",
   "execution_count": 73,
   "id": "eab643cd",
   "metadata": {},
   "outputs": [
    {
     "data": {
      "text/plain": [
       "53.4025"
      ]
     },
     "execution_count": 73,
     "metadata": {},
     "output_type": "execute_result"
    }
   ],
   "source": [
    "t_y_pred = best_lgb.predict(test_sparse)\n",
    "np.round(metric(y_test, t_y_pred), 4)"
   ]
  },
  {
   "cell_type": "markdown",
   "id": "77b13e9b-ba4f-4f7c-9f38-4342b7906226",
   "metadata": {},
   "source": [
    "**Итоговый результат (тест-сплит): 53.4**"
   ]
  },
  {
   "cell_type": "markdown",
   "id": "a9a4ed4e-3164-4996-94c7-aba4fcd8bd7b",
   "metadata": {},
   "source": [
    "Результат лучше, чем на валидации, вероятно, зависит от сплита, на графиках кота было видно, что более ранние сплиты имеют худший скор\n",
    "\n",
    "Метрика расчитана по всей тест-выборке, попробуем отдельно посчитать страты (разбивка по категориям)"
   ]
  },
  {
   "cell_type": "code",
   "execution_count": 74,
   "id": "89d46b28-0536-473c-9fa3-7d9e5fe31897",
   "metadata": {},
   "outputs": [],
   "source": [
    "cats = df['ARTICLE_GROUP'].unique().tolist()"
   ]
  },
  {
   "cell_type": "code",
   "execution_count": 75,
   "id": "2c947e53-6ab5-4d21-be30-79d500fb7e80",
   "metadata": {},
   "outputs": [],
   "source": [
    "d = dict.fromkeys(cats)\n",
    "for cat in cats:\n",
    "    d[cat] = df.query(\"MONTH == 8\").reset_index(drop=True).query(\"ARTICLE_GROUP == @cat\").index.tolist()"
   ]
  },
  {
   "cell_type": "code",
   "execution_count": 76,
   "id": "bb0f1767-aab6-4106-b658-0dab0277a6d3",
   "metadata": {},
   "outputs": [],
   "source": [
    "results_by_cat = dict.fromkeys(d)\n",
    "\n",
    "for cat_name, cat_indices in d.items():\n",
    "    x_q = test_sparse[cat_indices, :]\n",
    "    y_q = y_test.iloc[cat_indices]\n",
    "    m_t_y_pred = best_lgb.predict(x_q)\n",
    "    m_metric = metric(y_q, m_t_y_pred)\n",
    "    results_by_cat[cat_name] = np.round(m_metric, 4)"
   ]
  },
  {
   "cell_type": "code",
   "execution_count": 77,
   "id": "27c8a855-e941-4785-a926-1eb876cfb0ca",
   "metadata": {},
   "outputs": [
    {
     "data": {
      "text/plain": [
       "{'NON-ALCOHOL': 36.6262,\n",
       " 'BEER': 43.3137,\n",
       " 'LIQUOR': 45.5495,\n",
       " 'REF': 58.0945,\n",
       " 'STR_SUPPLIES': 60.1499,\n",
       " 'WINE': 68.6768}"
      ]
     },
     "execution_count": 77,
     "metadata": {},
     "output_type": "execute_result"
    }
   ],
   "source": [
    "dict(sorted(results_by_cat.items(), key=lambda item: item[1]))"
   ]
  },
  {
   "cell_type": "code",
   "execution_count": 78,
   "id": "525c27f0-6bf8-4447-b4ab-6760f8665241",
   "metadata": {},
   "outputs": [
    {
     "data": {
      "text/plain": [
       "ARTICLE_GROUP\n",
       "NON-ALCOHOL     14079.809028\n",
       "BEER            13293.774326\n",
       "LIQUOR          11626.636381\n",
       "STR_SUPPLIES    10374.791667\n",
       "REF              8274.705882\n",
       "WINE             4116.945543\n",
       "DUNNAGE                  NaN\n",
       "KEGS                     NaN\n",
       "Name: SALES, dtype: float64"
      ]
     },
     "execution_count": 78,
     "metadata": {},
     "output_type": "execute_result"
    }
   ],
   "source": [
    "df.groupby(['ARTICLE_GROUP'])['SALES'].mean().sort_values(ascending=False)"
   ]
  },
  {
   "cell_type": "markdown",
   "id": "d437efcd-bee3-424c-844f-5b2865628d46",
   "metadata": {},
   "source": [
    "- Category: NON-ALCOHOL: 37.0848\n",
    "- Category: BEER: 41.9662\n",
    "- Category: LIQUOR: 45.0763\n",
    "- Category: REF: 63.6087\n",
    "- Category: STR_SUPPLIES: 65.7112\n",
    "- Category: WINE': 67.5968"
   ]
  },
  {
   "cell_type": "markdown",
   "id": "27d6ec71-f0b3-4621-ad93-b14ba079728c",
   "metadata": {},
   "source": [
    "Похоже на то, что качество предсказаний зависит от среднего уровня продаж"
   ]
  },
  {
   "cell_type": "markdown",
   "id": "527c728a",
   "metadata": {},
   "source": [
    "## Вывод\n",
    "\n",
    "Текущая модель далека от идеала, но среди испытанных алгоритмов однозначно лучше всех показал себя градиентный бустинг LightGBM. Для улучшения результата можно попробовать генерацию дополнительных признаков, отбор уже существующих, более тщательную очистку входных данных и более тонкую настройку гиперпараметров"
   ]
  },
  {
   "cell_type": "code",
   "execution_count": null,
   "id": "a2e174f0",
   "metadata": {},
   "outputs": [],
   "source": []
  }
 ],
 "metadata": {
  "kernelspec": {
   "display_name": "Python 3 (ipykernel)",
   "language": "python",
   "name": "python3"
  },
  "language_info": {
   "codemirror_mode": {
    "name": "ipython",
    "version": 3
   },
   "file_extension": ".py",
   "mimetype": "text/x-python",
   "name": "python",
   "nbconvert_exporter": "python",
   "pygments_lexer": "ipython3",
   "version": "3.9.7"
  }
 },
 "nbformat": 4,
 "nbformat_minor": 5
}
