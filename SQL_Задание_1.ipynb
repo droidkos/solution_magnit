{
 "cells": [
  {
   "cell_type": "markdown",
   "id": "f637e799",
   "metadata": {},
   "source": [
    "Версии:\n",
    "  - sqlalchemy 1.4.22\n",
    "  - pandas 1.4.2"
   ]
  },
  {
   "cell_type": "code",
   "execution_count": 1,
   "id": "a49835ae",
   "metadata": {},
   "outputs": [],
   "source": [
    "import sqlalchemy\n",
    "import sqlalchemy.orm\n",
    "import pandas as pd"
   ]
  },
  {
   "cell_type": "markdown",
   "id": "f0a34732",
   "metadata": {},
   "source": [
    "Параметры подключения (сервер, БД, драйвер)"
   ]
  },
  {
   "cell_type": "code",
   "execution_count": 2,
   "id": "58455cb9",
   "metadata": {},
   "outputs": [],
   "source": [
    "SERVER = 'KONSTANTIN\\SQLEXPRESS'\n",
    "DB = 'testdb'\n",
    "DRIVER = 'SQL Server'"
   ]
  },
  {
   "cell_type": "code",
   "execution_count": 3,
   "id": "4e6f11fc",
   "metadata": {},
   "outputs": [],
   "source": [
    "conn = sqlalchemy.create_engine(\n",
    "    f'mssql+pyodbc://@{SERVER}/{DB}?trusted_connection=yes&driver={DRIVER}')\n",
    "session = sqlalchemy.orm.Session(conn)"
   ]
  },
  {
   "cell_type": "markdown",
   "id": "b502cdf5",
   "metadata": {},
   "source": [
    "Создание таблицы"
   ]
  },
  {
   "cell_type": "code",
   "execution_count": 4,
   "id": "125c2a3b",
   "metadata": {},
   "outputs": [],
   "source": [
    "with session.begin():\n",
    "    conn.execute('''\n",
    "            CREATE TABLE T_CONTRACTOR_SHERULER (\n",
    "                ID_NAME INT IDENTITY(1, 1) NOT NULL PRIMARY KEY,\n",
    "                NAME NVARCHAR(30) NOT NULL,\n",
    "                SHEDULE NVARCHAR(20) NOT NULL,\n",
    "                DATE_BEGIN DATETIME NOT NULL,\n",
    "                DATE_END DATETIME NOT NULL,\n",
    "\n",
    "                CONSTRAINT uq UNIQUE (NAME, SHEDULE),\n",
    "                CONSTRAINT dt CHECK (DATE_BEGIN <= DATE_END)\n",
    "                )\n",
    "                   ''')"
   ]
  },
  {
   "cell_type": "markdown",
   "id": "e64b14b5",
   "metadata": {},
   "source": [
    "Мой экземпляр БД использует американский формат даты, фикс"
   ]
  },
  {
   "cell_type": "code",
   "execution_count": 5,
   "id": "6f8cc66d",
   "metadata": {},
   "outputs": [],
   "source": [
    "with session.begin():\n",
    "    conn.execute('''SET DATEFORMAT dmy;''')"
   ]
  },
  {
   "cell_type": "markdown",
   "id": "ab7f1f34",
   "metadata": {},
   "source": [
    "Чтение и заливка данных"
   ]
  },
  {
   "cell_type": "code",
   "execution_count": 6,
   "id": "495383d5",
   "metadata": {},
   "outputs": [],
   "source": [
    "df = pd.read_csv(r'.\\sql\\shedulers.csv',\n",
    "                 sep=';',\n",
    "                 encoding='cp1251'\n",
    "                )\n",
    "df.columns = ['NAME', 'SHEDULE', 'DATE_BEGIN', 'DATE_END']\n",
    "_ = df.to_sql('T_CONTRACTOR_SHERULER', con=conn, if_exists='append', index=False)"
   ]
  },
  {
   "cell_type": "code",
   "execution_count": null,
   "id": "1ff32597",
   "metadata": {},
   "outputs": [],
   "source": []
  }
 ],
 "metadata": {
  "kernelspec": {
   "display_name": "Python 3 (ipykernel)",
   "language": "python",
   "name": "python3"
  },
  "language_info": {
   "codemirror_mode": {
    "name": "ipython",
    "version": 3
   },
   "file_extension": ".py",
   "mimetype": "text/x-python",
   "name": "python",
   "nbconvert_exporter": "python",
   "pygments_lexer": "ipython3",
   "version": "3.9.7"
  }
 },
 "nbformat": 4,
 "nbformat_minor": 5
}
