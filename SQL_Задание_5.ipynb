{
 "cells": [
  {
   "cell_type": "code",
   "execution_count": 1,
   "id": "14565637",
   "metadata": {},
   "outputs": [],
   "source": [
    "import datetime\n",
    "import sqlalchemy\n",
    "import sqlalchemy.orm\n",
    "import pandas as pd"
   ]
  },
  {
   "cell_type": "markdown",
   "id": "752cf7e7",
   "metadata": {},
   "source": [
    "Параметры подключения (сервер, БД, драйвер)"
   ]
  },
  {
   "cell_type": "code",
   "execution_count": 2,
   "id": "e6889a89",
   "metadata": {},
   "outputs": [],
   "source": [
    "SERVER = 'KONSTANTIN\\SQLEXPRESS'\n",
    "DB = 'testdb'\n",
    "DRIVER = 'SQL Server'"
   ]
  },
  {
   "cell_type": "code",
   "execution_count": 3,
   "id": "b628306a",
   "metadata": {},
   "outputs": [],
   "source": [
    "conn = sqlalchemy.create_engine(\n",
    "    f'mssql+pyodbc://@{SERVER}/{DB}?trusted_connection=yes&driver={DRIVER}')\n",
    "session = sqlalchemy.orm.Session(conn)"
   ]
  },
  {
   "cell_type": "markdown",
   "id": "7a062fda",
   "metadata": {},
   "source": [
    "**Создание процедуры (питон)**"
   ]
  },
  {
   "cell_type": "code",
   "execution_count": 4,
   "id": "c38811a8",
   "metadata": {},
   "outputs": [],
   "source": [
    "# чтобы не засорять код, текст запроса грузим из файла\n",
    "with session.begin():\n",
    "    conn.execute(open('.\\SQL_Задание_3.sql', encoding='utf_8_sig').read())"
   ]
  },
  {
   "cell_type": "markdown",
   "id": "88bc7322",
   "metadata": {},
   "source": [
    "**Запросы**"
   ]
  },
  {
   "cell_type": "code",
   "execution_count": 5,
   "id": "41d4e3ae",
   "metadata": {},
   "outputs": [],
   "source": [
    "def fill_contractor_table(dt_from: str, dt_to: str) -> None:\n",
    "    \"\"\"Заполняет таблицу SHIFT_CALC данными о сменах за период\n",
    "    \n",
    "    Args:\n",
    "      dt_drom - дата начала\n",
    "      dt_to - дата окончания (включительно)\n",
    "    \"\"\"\n",
    "    cursor = conn.raw_connection().cursor()\n",
    "    cursor.execute('SHIFT_CALC ?, ?', [dt_from, dt_to])\n",
    "    cursor.commit()\n",
    "    \n",
    "def read_contractor_table() -> pd.DataFrame:\n",
    "    \"\"\"Загружает данные таблицы SHIFT_CALC в Pandas\n",
    "    \n",
    "    Returns:\n",
    "      pandas dataframe\n",
    "    \"\"\"\n",
    "    data = pd.read_sql_table('T_CONTRACTOR_WORK_DAY',\n",
    "                             con=conn,\n",
    "                             index_col='ID',\n",
    "                             parse_dates=['DATE_BEGIN', 'DATE_END'])\n",
    "    return data"
   ]
  },
  {
   "cell_type": "markdown",
   "id": "5f5df469",
   "metadata": {},
   "source": [
    "Поскольку в задании не указано, какие методы обработки следует использовать, я решил загрузить таблицу в pandas и обработать данные его методами. Чистый SQL уже реализован в скриптах"
   ]
  },
  {
   "cell_type": "markdown",
   "id": "354e752c",
   "metadata": {},
   "source": [
    "**Запрос 1**"
   ]
  },
  {
   "cell_type": "markdown",
   "id": "5bbfd9f5",
   "metadata": {},
   "source": [
    "В задании не указан период, для примера беру февраль 2019"
   ]
  },
  {
   "cell_type": "code",
   "execution_count": 6,
   "id": "2b7edab8",
   "metadata": {},
   "outputs": [
    {
     "data": {
      "text/plain": [
       "NAME\n",
       "Поставщик 2    20\n",
       "Поставщик 3    14\n",
       "Name: DATE_BEGIN, dtype: int64"
      ]
     },
     "execution_count": 6,
     "metadata": {},
     "output_type": "execute_result"
    }
   ],
   "source": [
    "fill_contractor_table('2019-02-01', '2019-02-28')\n",
    "query_1 = read_contractor_table()\n",
    "result_1 = query_1.groupby('NAME')['DATE_BEGIN'].count()\n",
    "result_1"
   ]
  },
  {
   "cell_type": "markdown",
   "id": "883df32b",
   "metadata": {},
   "source": [
    "**Запрос 2**"
   ]
  },
  {
   "cell_type": "code",
   "execution_count": 7,
   "id": "9532aa52",
   "metadata": {},
   "outputs": [
    {
     "data": {
      "text/plain": [
       "NAME\n",
       "Поставщик 1    15\n",
       "Поставщик 2    22\n",
       "Поставщик 3    16\n",
       "Name: DATE_BEGIN, dtype: int64"
      ]
     },
     "execution_count": 7,
     "metadata": {},
     "output_type": "execute_result"
    }
   ],
   "source": [
    "fill_contractor_table('2019-01-01', '2019-01-31')\n",
    "query_2 = read_contractor_table()\n",
    "gb = query_2.groupby('NAME')['DATE_BEGIN'].count()\n",
    "result_2 = gb[gb > 10]\n",
    "result_2"
   ]
  },
  {
   "cell_type": "markdown",
   "id": "f023e318",
   "metadata": {},
   "source": [
    "**Запрос 3**"
   ]
  },
  {
   "cell_type": "markdown",
   "id": "468f9678",
   "metadata": {},
   "source": [
    "<div class=\"alert alert-warning\">\n",
    "    \n",
    "Важное замечание\n",
    "\n",
    "Здесь я не учитываю смены, которые начались в предыдущие сутки и закончились\n",
    "14, 15 или 16 января. В SQL запросе, наоборот, их учитывал\n",
    "    \n",
    "</div>"
   ]
  },
  {
   "cell_type": "code",
   "execution_count": 8,
   "id": "9cb33707",
   "metadata": {},
   "outputs": [
    {
     "data": {
      "text/plain": [
       "{'Поставщик 1', 'Поставщик 2'}"
      ]
     },
     "execution_count": 8,
     "metadata": {},
     "output_type": "execute_result"
    }
   ],
   "source": [
    "fill_contractor_table('2019-01-13', '2019-01-16')\n",
    "query_3 = read_contractor_table()\n",
    "query_3['DATE_BEGIN'] = query_3['DATE_BEGIN'].dt.date\n",
    "query_3['DATE_END'] = query_3['DATE_END'].dt.date\n",
    "\n",
    "dt1 = set(query_3.loc[query_3['DATE_BEGIN'] == datetime.date.fromisoformat('2019-01-14'), 'NAME'])\n",
    "dt2 = set(query_3.loc[query_3['DATE_BEGIN'] == datetime.date.fromisoformat('2019-01-15'), 'NAME'])\n",
    "dt3 = set(query_3.loc[query_3['DATE_BEGIN'] == datetime.date.fromisoformat('2019-01-16'), 'NAME'])\n",
    "result = dt1.intersection(dt2).intersection(dt3)\n",
    "result"
   ]
  },
  {
   "cell_type": "code",
   "execution_count": null,
   "id": "f7257cc7",
   "metadata": {},
   "outputs": [],
   "source": []
  }
 ],
 "metadata": {
  "kernelspec": {
   "display_name": "Python 3 (ipykernel)",
   "language": "python",
   "name": "python3"
  },
  "language_info": {
   "codemirror_mode": {
    "name": "ipython",
    "version": 3
   },
   "file_extension": ".py",
   "mimetype": "text/x-python",
   "name": "python",
   "nbconvert_exporter": "python",
   "pygments_lexer": "ipython3",
   "version": "3.9.7"
  }
 },
 "nbformat": 4,
 "nbformat_minor": 5
}
